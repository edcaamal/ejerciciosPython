{
  "nbformat": 4,
  "nbformat_minor": 0,
  "metadata": {
    "colab": {
      "provenance": [],
      "authorship_tag": "ABX9TyNRgWd7BYVsSdCeL8R/6Zr0",
      "include_colab_link": true
    },
    "kernelspec": {
      "name": "python3",
      "display_name": "Python 3"
    },
    "language_info": {
      "name": "python"
    }
  },
  "cells": [
    {
      "cell_type": "markdown",
      "metadata": {
        "id": "view-in-github",
        "colab_type": "text"
      },
      "source": [
        "<a href=\"https://colab.research.google.com/github/edcaamal/ejerciciosPython/blob/main/Manejo_de_clases.ipynb\" target=\"_parent\"><img src=\"https://colab.research.google.com/assets/colab-badge.svg\" alt=\"Open In Colab\"/></a>"
      ]
    },
    {
      "cell_type": "markdown",
      "source": [
        "# Manejo de Clases\n",
        "Uso de una clase con diferentes estruturas de datos\n",
        "Con funciones personalizadas"
      ],
      "metadata": {
        "id": "3pG_zejb9uhs"
      }
    },
    {
      "cell_type": "code",
      "execution_count": 8,
      "metadata": {
        "id": "2H_oqh0KwmpB"
      },
      "outputs": [],
      "source": [
        "# Clase Persona\n",
        "class Persona:\n",
        "  def __init__(self, nombre, edad, sexo):\n",
        "    self.nombre = nombre\n",
        "    self.edad = edad\n",
        "    self.sexo = sexo\n",
        "  \n",
        "  def __str__(self):\n",
        "    return (f\"{self.nombre}.{self.edad}.{self.sexo}\")\n"
      ]
    },
    {
      "cell_type": "code",
      "source": [
        "juan = Persona(\"juan\", 17, \"M\")\n",
        "print(juan)\n",
        "pedro = Persona(\"pedro\", 16, 'M')\n",
        "print(pedro)\n",
        "ana = Persona(\"ana\", 16, 'M')\n",
        "print(ana)\n"
      ],
      "metadata": {
        "colab": {
          "base_uri": "https://localhost:8080/"
        },
        "id": "M2U2-KsExlBz",
        "outputId": "8ab9ef0c-a045-41f7-e85d-db080e892505"
      },
      "execution_count": 10,
      "outputs": [
        {
          "output_type": "stream",
          "name": "stdout",
          "text": [
            "juan.17.M\n",
            "pedro.16.M\n",
            "ana.16.M\n"
          ]
        }
      ]
    },
    {
      "cell_type": "code",
      "source": [
        "alumnos = []\n",
        "alumnos.append(Persona(\"juan\", 17, \"M\"))\n",
        "alumnos.append(Persona(\"pedro\", 16, 'M'))\n",
        "alumnos.append(Persona(\"ana\", 16, 'M'))\n",
        "\n",
        "print(\"1 solo alumno : \", alumnos[0])\n",
        "print(\"\")\n",
        "\n",
        "for i in range(len(alumnos)):\n",
        "  print(i, alumnos[i])\n",
        "print(\"\")\n",
        "\n",
        "for alumno in alumnos:\n",
        "  print(alumno)\n",
        "\n"
      ],
      "metadata": {
        "colab": {
          "base_uri": "https://localhost:8080/"
        },
        "id": "O1CY5RJXynKz",
        "outputId": "695ff179-9dc1-465c-f60e-b09ceff4d16f"
      },
      "execution_count": 21,
      "outputs": [
        {
          "output_type": "stream",
          "name": "stdout",
          "text": [
            "1 solo alumno :  juan.17.M\n",
            "\n",
            "0 juan.17.M\n",
            "1 pedro.16.M\n",
            "2 ana.16.M\n",
            "\n",
            "juan.17.M\n",
            "pedro.16.M\n",
            "ana.16.M\n"
          ]
        }
      ]
    },
    {
      "cell_type": "markdown",
      "source": [
        "### Añadir Funciones"
      ],
      "metadata": {
        "id": "ahH5O14G-EBr"
      }
    },
    {
      "cell_type": "code",
      "source": [
        "class Persona:\n",
        "  def __init__(self, nombre, edad, sexo):\n",
        "    self.nombre = nombre\n",
        "    self.edad = edad\n",
        "    self.sexo = sexo\n",
        "  \n",
        "  def __str__(self):\n",
        "    return (f\"{self.nombre}.{self.edad}.{self.sexo}\")\n",
        "  \n",
        "  # Añadiendole una función personalizada\n",
        "  def diasVividos(self):\n",
        "    return self.edad * 365\n",
        "\n"
      ],
      "metadata": {
        "id": "v_XJontZ0P8L"
      },
      "execution_count": 23,
      "outputs": []
    },
    {
      "cell_type": "code",
      "source": [
        "# Lista de Alumnos\n",
        "alumnos = []\n",
        "alumnos.append(Persona(\"juan\", 17, \"M\"))\n",
        "alumnos.append(Persona(\"pedro\", 16, 'M'))\n",
        "alumnos.append(Persona(\"ana\", 16, 'F'))\n",
        "\n",
        "for alumno in alumnos:\n",
        "  print(alumno, \" ha vivido \", alumno.diasVividos(), \"dias\")"
      ],
      "metadata": {
        "colab": {
          "base_uri": "https://localhost:8080/"
        },
        "id": "t3OeKWsT0zXy",
        "outputId": "e1f9f668-cb48-47a0-c6e1-3b5fa77915dc"
      },
      "execution_count": 27,
      "outputs": [
        {
          "output_type": "stream",
          "name": "stdout",
          "text": [
            "juan.17.M  ha vivido  6205 dias\n",
            "pedro.16.M  ha vivido  5840 dias\n",
            "ana.16.M  ha vivido  5840 dias\n"
          ]
        }
      ]
    },
    {
      "cell_type": "code",
      "source": [
        "# Tupla de alumnos\n",
        "# Tupla es inmutable, una vez creado no se pueden añadir más elementos\n",
        "\n",
        "estudiantes = ()\n",
        "estudiantes = (Persona(\"juan\", 17, \"M\"),\n",
        "               Persona(\"pedro\", 16, 'M'),\n",
        "               Persona(\"ana\", 16, 'F'))\n",
        "\n",
        "for estudiante in estudiantes:\n",
        "  print(estudiante, \" ha vivido \", estudiante.diasVividos(), \"dias\")"
      ],
      "metadata": {
        "colab": {
          "base_uri": "https://localhost:8080/"
        },
        "id": "y0ovSWyi4Eea",
        "outputId": "e0444761-45d6-4aea-b648-c4a0c693a6a7"
      },
      "execution_count": 29,
      "outputs": [
        {
          "output_type": "stream",
          "name": "stdout",
          "text": [
            "juan.17.M  ha vivido  6205 dias\n",
            "pedro.16.M  ha vivido  5840 dias\n",
            "ana.16.M  ha vivido  5840 dias\n"
          ]
        }
      ]
    },
    {
      "cell_type": "code",
      "source": [
        "# Conjuntos\n",
        "\n",
        "colegiados = {Persona(\"juan\", 17, \"M\"),\n",
        "               Persona(\"pedro\", 16, 'M'),\n",
        "               Persona(\"ana\", 16, 'F')}\n",
        "\n",
        "for colegiado in colegiados:\n",
        "  print(colegiado, \" ha vivido \", colegiado.diasVividos(), \"dias\")  \n",
        "         \n",
        "# Añadiendo un nuevo elemento\n",
        "colegiados.add (Persona(\"maria\", 17, \"F\"))\n",
        "for colegiado in colegiados:\n",
        "  print(colegiado)  \n"
      ],
      "metadata": {
        "colab": {
          "base_uri": "https://localhost:8080/"
        },
        "id": "uTJerc9s9PZL",
        "outputId": "c3fc216c-3aa8-4709-9df9-17d459cc3e78"
      },
      "execution_count": 35,
      "outputs": [
        {
          "output_type": "stream",
          "name": "stdout",
          "text": [
            "juan.17.M  ha vivido  6205 dias\n",
            "ana.16.F  ha vivido  5840 dias\n",
            "pedro.16.M  ha vivido  5840 dias\n",
            "maria.17.F\n",
            "juan.17.M\n",
            "ana.16.F\n",
            "pedro.16.M\n"
          ]
        }
      ]
    }
  ]
}