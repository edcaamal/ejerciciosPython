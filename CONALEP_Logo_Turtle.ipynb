{
  "nbformat": 4,
  "nbformat_minor": 0,
  "metadata": {
    "colab": {
      "provenance": [],
      "authorship_tag": "ABX9TyONZqG/URCzMfJussLEnK0/",
      "include_colab_link": true
    },
    "kernelspec": {
      "name": "python3",
      "display_name": "Python 3"
    },
    "language_info": {
      "name": "python"
    }
  },
  "cells": [
    {
      "cell_type": "markdown",
      "metadata": {
        "id": "view-in-github",
        "colab_type": "text"
      },
      "source": [
        "<a href=\"https://colab.research.google.com/github/edcaamal/ejerciciosPython/blob/main/CONALEP_Logo_Turtle.ipynb\" target=\"_parent\"><img src=\"https://colab.research.google.com/assets/colab-badge.svg\" alt=\"Open In Colab\"/></a>"
      ]
    },
    {
      "cell_type": "code",
      "execution_count": 1,
      "metadata": {
        "colab": {
          "base_uri": "https://localhost:8080/"
        },
        "id": "tr1lhQGIljGr",
        "outputId": "6d94e224-33cd-4c14-bf4b-b9fd01b31052"
      },
      "outputs": [
        {
          "output_type": "stream",
          "name": "stdout",
          "text": [
            "Looking in indexes: https://pypi.org/simple, https://us-python.pkg.dev/colab-wheels/public/simple/\n",
            "Collecting ColabTurtle\n",
            "  Downloading ColabTurtle-2.1.0.tar.gz (6.8 kB)\n",
            "  Preparing metadata (setup.py) ... \u001b[?25l\u001b[?25hdone\n",
            "Building wheels for collected packages: ColabTurtle\n",
            "  Building wheel for ColabTurtle (setup.py) ... \u001b[?25l\u001b[?25hdone\n",
            "  Created wheel for ColabTurtle: filename=ColabTurtle-2.1.0-py3-none-any.whl size=7656 sha256=5981dfb44547bfba9d453456d831649d1e083b40b1b95693dd3eec052b732f7c\n",
            "  Stored in directory: /root/.cache/pip/wheels/5b/86/e8/54f5c8c853606e3a3060bb2e60363cbed632374a12e0f33ffc\n",
            "Successfully built ColabTurtle\n",
            "Installing collected packages: ColabTurtle\n",
            "Successfully installed ColabTurtle-2.1.0\n"
          ]
        }
      ],
      "source": [
        "!pip install ColabTurtle\n",
        "from ColabTurtle.Turtle import *\n",
        "import turtle\n",
        "import time"
      ]
    },
    {
      "cell_type": "code",
      "source": [
        "initializeTurtle(initial_speed=10)\n",
        "\n",
        "color('green')\n",
        "up()\n",
        "setposition(200, 200)\n",
        "down()\n",
        "right(15)\n",
        "forward(70)\n",
        "right(60)\n",
        "forward(200)\n",
        "for i in range(5):\n",
        "   right(12)\n",
        "   forward(40)\n",
        "right(100)  \n",
        "forward(70)\n",
        "right(80) \n",
        "forward(50)\n",
        "for i in range(5):\n",
        "   left(12)\n",
        "   forward(15)\n",
        "forward(233)\n",
        "\n",
        "up()\n",
        "setposition(270, 230)\n",
        "down()\n",
        "\n",
        "right(180)\n",
        "forward(70)\n",
        "right(60)\n",
        "forward(80)\n",
        "for i in range(7):\n",
        "   left(11)\n",
        "   forward(15)\n",
        "forward(233)\n",
        "right(120)  \n",
        "forward(70)\n",
        "right(57) \n",
        "forward(200)\n",
        "for i in range(7):\n",
        "   right(13)\n",
        "   forward(40)\n",
        "forward(30)\n",
        "\n",
        "up()\n",
        "setposition(400, 450)\n",
        "down()\n",
        "\n",
        "write(\"CONALEP\", align=\"center\", font=(100, \"Arial\", \"italic\"))\n",
        "up()\n",
        "setposition(450, 200)\n",
        "down()\n",
        "color('yellow')\n",
        "\n"
      ],
      "metadata": {
        "colab": {
          "base_uri": "https://localhost:8080/",
          "height": 522
        },
        "id": "p4KNwLujt5IJ",
        "outputId": "98d126bf-7bd9-4beb-912e-440c607e5d01"
      },
      "execution_count": 13,
      "outputs": [
        {
          "output_type": "display_data",
          "data": {
            "text/plain": [
              "<IPython.core.display.HTML object>"
            ],
            "text/html": [
              "\n",
              "      <svg width=\"800\" height=\"500\">\n",
              "        <rect width=\"100%\" height=\"100%\" fill=\"black\"/>\n",
              "        <line x1=\"200\" y1=\"200\" x2=\"218.117\" y2=\"132.385\" stroke-linecap=\"round\" style=\"stroke:green;stroke-width:4\"/><line x1=\"218.117\" y1=\"132.385\" x2=\"411.302\" y2=\"80.621\" stroke-linecap=\"round\" style=\"stroke:green;stroke-width:4\"/><line x1=\"411.302\" y1=\"80.621\" x2=\"451.247\" y2=\"78.528\" stroke-linecap=\"round\" style=\"stroke:green;stroke-width:4\"/><line x1=\"451.247\" y1=\"78.528\" x2=\"490.755\" y2=\"84.785\" stroke-linecap=\"round\" style=\"stroke:green;stroke-width:4\"/><line x1=\"490.755\" y1=\"84.785\" x2=\"528.098\" y2=\"99.12\" stroke-linecap=\"round\" style=\"stroke:green;stroke-width:4\"/><line x1=\"528.098\" y1=\"99.12\" x2=\"561.645\" y2=\"120.906\" stroke-linecap=\"round\" style=\"stroke:green;stroke-width:4\"/><line x1=\"561.645\" y1=\"120.906\" x2=\"589.929\" y2=\"149.19\" stroke-linecap=\"round\" style=\"stroke:green;stroke-width:4\"/><line x1=\"589.929\" y1=\"149.19\" x2=\"532.588\" y2=\"189.34\" stroke-linecap=\"round\" style=\"stroke:green;stroke-width:4\"/><line x1=\"532.588\" y1=\"189.34\" x2=\"497.233\" y2=\"153.985\" stroke-linecap=\"round\" style=\"stroke:green;stroke-width:4\"/><line x1=\"497.233\" y1=\"153.985\" x2=\"484.653\" y2=\"145.815\" stroke-linecap=\"round\" style=\"stroke:green;stroke-width:4\"/><line x1=\"484.653\" y1=\"145.815\" x2=\"470.649\" y2=\"140.439\" stroke-linecap=\"round\" style=\"stroke:green;stroke-width:4\"/><line x1=\"470.649\" y1=\"140.439\" x2=\"455.834\" y2=\"138.092\" stroke-linecap=\"round\" style=\"stroke:green;stroke-width:4\"/><line x1=\"455.834\" y1=\"138.092\" x2=\"440.855\" y2=\"138.877\" stroke-linecap=\"round\" style=\"stroke:green;stroke-width:4\"/><line x1=\"440.855\" y1=\"138.877\" x2=\"426.366\" y2=\"142.759\" stroke-linecap=\"round\" style=\"stroke:green;stroke-width:4\"/><line x1=\"426.366\" y1=\"142.759\" x2=\"201.305\" y2=\"203.064\" stroke-linecap=\"round\" style=\"stroke:green;stroke-width:4\"/><line x1=\"270\" y1=\"230\" x2=\"337.615\" y2=\"211.883\" stroke-linecap=\"round\" style=\"stroke:green;stroke-width:4\"/><line x1=\"337.615\" y1=\"211.883\" x2=\"394.184\" y2=\"268.452\" stroke-linecap=\"round\" style=\"stroke:green;stroke-width:4\"/><line x1=\"394.184\" y1=\"268.452\" x2=\"406.62\" y2=\"276.84\" stroke-linecap=\"round\" style=\"stroke:green;stroke-width:4\"/><line x1=\"406.62\" y1=\"276.84\" x2=\"420.428\" y2=\"282.701\" stroke-linecap=\"round\" style=\"stroke:green;stroke-width:4\"/><line x1=\"420.428\" y1=\"282.701\" x2=\"435.1\" y2=\"285.82\" stroke-linecap=\"round\" style=\"stroke:green;stroke-width:4\"/><line x1=\"435.1\" y1=\"285.82\" x2=\"450.098\" y2=\"286.082\" stroke-linecap=\"round\" style=\"stroke:green;stroke-width:4\"/><line x1=\"450.098\" y1=\"286.082\" x2=\"464.87\" y2=\"283.477\" stroke-linecap=\"round\" style=\"stroke:green;stroke-width:4\"/><line x1=\"464.87\" y1=\"283.477\" x2=\"478.874\" y2=\"278.101\" stroke-linecap=\"round\" style=\"stroke:green;stroke-width:4\"/><line x1=\"478.874\" y1=\"278.101\" x2=\"491.595\" y2=\"270.152\" stroke-linecap=\"round\" style=\"stroke:green;stroke-width:4\"/><line x1=\"491.595\" y1=\"270.152\" x2=\"689.19\" y2=\"146.681\" stroke-linecap=\"round\" style=\"stroke:green;stroke-width:4\"/><line x1=\"689.19\" y1=\"146.681\" x2=\"691.633\" y2=\"216.638\" stroke-linecap=\"round\" style=\"stroke:green;stroke-width:4\"/><line x1=\"691.633\" y1=\"216.638\" x2=\"527.803\" y2=\"331.353\" stroke-linecap=\"round\" style=\"stroke:green;stroke-width:4\"/><line x1=\"527.803\" y1=\"331.353\" x2=\"490.716\" y2=\"346.337\" stroke-linecap=\"round\" style=\"stroke:green;stroke-width:4\"/><line x1=\"490.716\" y1=\"346.337\" x2=\"451.208\" y2=\"352.594\" stroke-linecap=\"round\" style=\"stroke:green;stroke-width:4\"/><line x1=\"451.208\" y1=\"352.594\" x2=\"411.305\" y2=\"349.804\" stroke-linecap=\"round\" style=\"stroke:green;stroke-width:4\"/><line x1=\"411.305\" y1=\"349.804\" x2=\"373.053\" y2=\"338.109\" stroke-linecap=\"round\" style=\"stroke:green;stroke-width:4\"/><line x1=\"373.053\" y1=\"338.109\" x2=\"338.412\" y2=\"318.109\" stroke-linecap=\"round\" style=\"stroke:green;stroke-width:4\"/><line x1=\"338.412\" y1=\"318.109\" x2=\"309.158\" y2=\"290.829\" stroke-linecap=\"round\" style=\"stroke:green;stroke-width:4\"/><line x1=\"309.158\" y1=\"290.829\" x2=\"286.79\" y2=\"257.667\" stroke-linecap=\"round\" style=\"stroke:green;stroke-width:4\"/><line x1=\"286.79\" y1=\"257.667\" x2=\"270.014\" y2=\"232.796\" stroke-linecap=\"round\" style=\"stroke:green;stroke-width:4\"/><text x=\"400\" y=\"450\" fill=\"green\" text-anchor=\"middle\" style=\"font-size:100px;font-family:'Arial';font-style:italic;\">CONALEP</text>\n",
              "        <g visibility=visible transform=\"rotate(326,450,200) translate(432, 182)\">\n",
              "<path style=\" stroke:none;fill-rule:evenodd;fill:yellow;fill-opacity:1;\" d=\"M 18.214844 0.632812 C 16.109375 1.800781 15.011719 4.074219 15.074219 7.132812 L 15.085938 7.652344 L 14.785156 7.496094 C 13.476562 6.824219 11.957031 6.671875 10.40625 7.066406 C 8.46875 7.550781 6.515625 9.15625 4.394531 11.992188 C 3.0625 13.777344 2.679688 14.636719 3.042969 15.027344 L 3.15625 15.152344 L 3.519531 15.152344 C 4.238281 15.152344 4.828125 14.886719 8.1875 13.039062 C 9.386719 12.378906 10.371094 11.839844 10.378906 11.839844 C 10.386719 11.839844 10.355469 11.929688 10.304688 12.035156 C 9.832031 13.09375 9.257812 14.820312 8.96875 16.078125 C 7.914062 20.652344 8.617188 24.53125 11.070312 27.660156 C 11.351562 28.015625 11.363281 27.914062 10.972656 28.382812 C 8.925781 30.84375 7.945312 33.28125 8.238281 35.1875 C 8.289062 35.527344 8.28125 35.523438 8.917969 35.523438 C 10.941406 35.523438 13.074219 34.207031 15.136719 31.6875 C 15.359375 31.417969 15.328125 31.425781 15.5625 31.574219 C 16.292969 32.042969 18.023438 32.964844 18.175781 32.964844 C 18.335938 32.964844 19.941406 32.210938 20.828125 31.71875 C 20.996094 31.625 21.136719 31.554688 21.136719 31.558594 C 21.203125 31.664062 21.898438 32.414062 22.222656 32.730469 C 23.835938 34.300781 25.5625 35.132812 27.582031 35.300781 C 27.90625 35.328125 27.9375 35.308594 28.007812 34.984375 C 28.382812 33.242188 27.625 30.925781 25.863281 28.425781 L 25.542969 27.96875 L 25.699219 27.785156 C 28.945312 23.960938 29.132812 18.699219 26.257812 11.96875 L 26.207031 11.84375 L 27.945312 12.703125 C 31.53125 14.476562 32.316406 14.800781 33.03125 14.800781 C 33.976562 14.800781 33.78125 13.9375 32.472656 12.292969 C 28.519531 7.355469 25.394531 5.925781 21.921875 7.472656 L 21.558594 7.636719 L 21.578125 7.542969 C 21.699219 6.992188 21.761719 5.742188 21.699219 5.164062 C 21.496094 3.296875 20.664062 1.964844 19.003906 0.855469 C 18.480469 0.503906 18.457031 0.5 18.214844 0.632812\"/>\n",
              "</g>\n",
              "      </svg>\n",
              "    "
            ]
          },
          "metadata": {}
        }
      ]
    },
    {
      "cell_type": "code",
      "source": [],
      "metadata": {
        "colab": {
          "base_uri": "https://localhost:8080/"
        },
        "id": "LVYlmGz2t_pn",
        "outputId": "ab946972-c055-444a-dabf-992f7b5e7554"
      },
      "execution_count": null,
      "outputs": [
        {
          "output_type": "stream",
          "name": "stderr",
          "text": [
            "UsageError: Cell magic `%%manim` not found.\n"
          ]
        }
      ]
    }
  ]
}